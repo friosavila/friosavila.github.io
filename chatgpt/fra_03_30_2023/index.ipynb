{
  "cells": [
    {
      "cell_type": "raw",
      "metadata": {},
      "source": [
        "---\n",
        "title: \"How to write your own Installer\"\n",
        "description: \"I provide a small descriptio on how to use `net` to program an easy installer for your own repository\"\n",
        "author: \"Fernando Rios-Avila\"\n",
        "date: \"3/30/2023\"\n",
        "categories: \n",
        "    - Stata\n",
        "    - Tips\n",
        "    - Programming\n",
        "format:\n",
        "  html:\n",
        "    code-line-numbers: true\n",
        "draft: false\n",
        "---"
      ],
      "id": "141f83c8"
    },
    {
      "cell_type": "markdown",
      "metadata": {},
      "source": [
        "If you are an avid Stata user, you know that **THE** place to search and access user-written, now community-contributed, programs is via `SSC`. \n",
        "\n",
        "`SSC` is a command that allows you to install community-contributed programs from the ***Boston College Statistical Software Components***, provided by http://repec.org. This archive has become the \"official\" place to store all \"unofficial\" programs. \n",
        "\n",
        "While not official, most `SSC` programs are ment to be well documented, hard tested, and maintained set or programs that are of general interest. However, what if you want to share programs that are do not meet all this requirements. Say, you are writting small rutines for your own work, as well as your collegues.\n",
        "\n",
        "For those cases, there is `net`. This program is what operates behind `ssc` to bring forward, and allows you to install programs from the internet, and why not, your own repository.\n",
        "\n",
        "So here is where today's post is about. How to write a wrapper around `net` that would easily install other programs from your personal repository.\n",
        "\n",
        "## Structure of the program\n",
        "\n",
        "To write your wrapping program you need two things:\n",
        "\n",
        "- name for the program. I find this the hardest part, as you want something simple, memorable, that will connect to your research in general. In my case, I just decided to call it `fra`\n",
        "- the address for your repository. If you are archeving your programs online (outside of `ssc`) you already have this. In my case, it will be my `stpackage` repository.\n",
        "\n",
        "With these two elements lets write the wrapper:\n",
        "\n",
        "```stata\n",
        "program fra\n",
        "\tsyntax anything, [all replace force]\n",
        "\tlocal from \"https://friosavila.github.io/stpackages\"\n",
        "\ttokenize `anything'\n",
        "\n",
        "    if \"`1'`2'\"==\"\"  net from `from' \n",
        "    else if !inlist(\"`1'\",\"describe\", \"install\", \"get\") {\n",
        "        display as error \"`1' invalid subcommand\"\n",
        "    }\n",
        "    else {\n",
        "        net `1' `2', `all' `replace' from(`from')\n",
        "    }\n",
        "    qui:net from http://www.stata.com/\n",
        "end\n",
        "```\n",
        "\n",
        "As you can see, this is a minimal program. It will only use 3 options:\n",
        "\n",
        "- all : the all the package contents are downloaded (in addition to the ado and helpfiles)\n",
        "- replace: to replace the currently available program in your computer\n",
        "- force: To force any action.\n",
        "  \n",
        "Line 3 is equally important, because is where your repository address will go. That way, users won't have to modify \"from\" everytime they want to get your packages.\n",
        "\n",
        "Lines 6-12 will do the installing for you (or packages description).\n",
        "\n",
        "Lastly, to be nice, line 13 will restore `net` to the default addres: Stata\n",
        "\n",
        "The last step, of course, is to save this file with the name `fra.ado`. Excecute it once, and start redistributing your packages.\n",
        "\n",
        "If you are doing this I would suggest trying the following:\n"
      ],
      "id": "104dea52"
    },
    {
      "cell_type": "code",
      "metadata": {},
      "source": [
        "fra install fra, replace"
      ],
      "id": "79679a1f",
      "execution_count": null,
      "outputs": []
    },
    {
      "cell_type": "markdown",
      "metadata": {},
      "source": [
        "That way, it will store the information in the right place, and you wont have to worry about it anymore!\n"
      ],
      "id": "6be50453"
    }
  ],
  "metadata": {
    "kernelspec": {
      "name": "nbstata",
      "language": "stata",
      "display_name": "Stata (nbstata)"
    }
  },
  "nbformat": 4,
  "nbformat_minor": 5
}