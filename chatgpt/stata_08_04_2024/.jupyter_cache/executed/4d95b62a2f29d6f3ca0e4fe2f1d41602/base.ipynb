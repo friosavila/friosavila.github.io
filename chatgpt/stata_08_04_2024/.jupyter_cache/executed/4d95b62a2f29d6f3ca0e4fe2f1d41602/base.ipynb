{
 "cells": [
  {
   "cell_type": "code",
   "execution_count": 1,
   "id": "3207c0d6",
   "metadata": {},
   "outputs": [],
   "source": []
  },
  {
   "cell_type": "code",
   "execution_count": 2,
   "id": "c0444480",
   "metadata": {},
   "outputs": [
    {
     "data": {
      "text/html": [
       "<style>div.jp-Notebook .datagrid-container {min-height: 448px; }</style>"
      ],
      "text/plain": [
       "<IPython.core.display.HTML object>"
      ]
     },
     "metadata": {},
     "output_type": "display_data"
    },
    {
     "name": "stdout",
     "output_type": "stream",
     "text": [
      "(1978 automobile data)\n",
      "\n",
      "             |  e(count)   e(sum_w)    e(mean)     e(Var)      e(sd) \n",
      "-------------+-------------------------------------------------------\n",
      "       price |        74         74   6165.257    8699526   2949.496 \n",
      "         mpg |        74         74    21.2973   33.47205   5.785503 \n",
      "      weight |        74         74   3019.459   604029.8   777.1936 \n",
      "      length |        74         74   187.9324   495.7899   22.26634 \n",
      "\n",
      "             |    e(min)     e(max)     e(sum) \n",
      "-------------+---------------------------------\n",
      "       price |      3291      15906     456229 \n",
      "         mpg |        12         41       1576 \n",
      "      weight |      1760       4840     223440 \n",
      "      length |       142        233      13907 \n"
     ]
    },
    {
     "name": "stdout",
     "output_type": "stream",
     "text": [
      "(output written to summary_stats.txt)\n"
     ]
    }
   ],
   "source": [
    "*| code-fold: false\n",
    "*| output: false\n",
    "// Load sample data\n",
    "sysuse auto, clear\n",
    "\n",
    "// Create summary statistics table\n",
    "estpost summarize price mpg weight length\n",
    "est sto summary_stats\n",
    "esttab summary_stats using summary_stats.txt, ///\n",
    "    cells(\"mean(fmt(2)) sd(fmt(2)) min max\") ///\n",
    "    nomtitle nonumber md replace label"
   ]
  },
  {
   "cell_type": "code",
   "execution_count": 3,
   "id": "1ae60d95",
   "metadata": {},
   "outputs": [
    {
     "name": "stdout",
     "output_type": "stream",
     "text": [
      "(NLSW, 1988 extract)\n"
     ]
    },
    {
     "name": "stdout",
     "output_type": "stream",
     "text": [
      "\n",
      "Summary statistics: mean sd min max count\n",
      "     for variables: wage age tenure\n",
      "  by categories of: race\n",
      "\n",
      "        race |   e(mean)      e(sd)     e(min)     e(max)   e(count) \n",
      "-------------+-------------------------------------------------------\n",
      "White        |                                                       \n",
      "        wage |  8.082999   5.955069   1.004952   40.19808       1637 \n",
      "         age |  39.27245   3.077691         34         46       1637 \n",
      "      tenure |  5.808236   5.463941          0   25.91667       1627 \n",
      "-------------+-------------------------------------------------------\n",
      "Black        |                                                       \n",
      "        wage |  6.844558   5.076187   1.151368   40.74659        583 \n",
      "         age |  38.81132   2.980246         34         45        583 \n",
      "      tenure |  6.501586   5.623849          0      24.75        578 \n",
      "-------------+-------------------------------------------------------\n",
      "Other        |                                                       \n",
      "        wage |  8.550781    5.20943    1.80602   25.80515         26 \n",
      "         age |  39.30769   3.246774         34         44         26 \n",
      "      tenure |  4.948718   5.236203   .1666667   21.16667         26 \n",
      "-------------+-------------------------------------------------------\n",
      "Total        |                                                       \n",
      "        wage |  7.766949   5.755523   1.004952   40.74659       2246 \n",
      "         age |  39.15316   3.060002         34         46       2246 \n",
      "      tenure |   5.97785   5.510331          0   25.91667       2231 \n"
     ]
    },
    {
     "name": "stdout",
     "output_type": "stream",
     "text": [
      "(output written to advanced_summary.txt)\n"
     ]
    }
   ],
   "source": [
    "*| code-fold: false\n",
    "*| output: false\n",
    "// Load sample data\n",
    "webuse nlsw88, clear\n",
    "\n",
    "// Calculate summary statistics by occupation category\n",
    "estpost tabstat wage age tenure, by(race) statistics(mean sd min max n) columns(statistics)\n",
    "est sto advanced_summary\n",
    "// Create advanced summary statistics table\n",
    "esttab advanced_summary using advanced_summary.txt, ///\n",
    "    cells(\"mean(fmt(2)) sd(fmt(2)) min(fmt(1)) max(fmt(1)) count(fmt(0))\") ///\n",
    "    noobs nonumber nomtitle     ///\n",
    "    collabels(\"Mean\" \"Std. Dev.\" \"Min\" \"Max\" \"N\") ///\n",
    "    eqlabels(\"White\" \"Black\" \"Other\") ///\n",
    "    varlabels(wage \"&nbsp;&nbsp;Hourly Wage\" age \"&nbsp;&nbsp;Age\" tenure \"&nbsp;&nbsp;Job Tenure\") ///\n",
    "    alignment(r) width(20) ///\n",
    "    replace noline md"
   ]
  },
  {
   "cell_type": "code",
   "execution_count": 4,
   "id": "dfcc4c92",
   "metadata": {},
   "outputs": [
    {
     "name": "stdout",
     "output_type": "stream",
     "text": [
      "(1978 automobile data)\n",
      "\n",
      "      Source |       SS           df       MS      Number of obs   =        74\n",
      "-------------+----------------------------------   F(2, 71)        =     14.74\n",
      "       Model |   186321280         2  93160639.9   Prob > F        =    0.0000\n",
      "    Residual |   448744116        71  6320339.67   R-squared       =    0.2934\n",
      "-------------+----------------------------------   Adj R-squared   =    0.2735\n",
      "       Total |   635065396        73  8699525.97   Root MSE        =      2514\n",
      "\n"
     ]
    },
    {
     "name": "stdout",
     "output_type": "stream",
     "text": [
      "------------------------------------------------------------------------------\n"
     ]
    },
    {
     "name": "stdout",
     "output_type": "stream",
     "text": [
      "       price | Coefficient  Std. err.      t    P>|t|     [95% conf. interval]\n"
     ]
    },
    {
     "name": "stdout",
     "output_type": "stream",
     "text": [
      "-------------+----------------------------------------------------------------\n"
     ]
    },
    {
     "name": "stdout",
     "output_type": "stream",
     "text": [
      "      weight |"
     ]
    },
    {
     "name": "stdout",
     "output_type": "stream",
     "text": [
      "   1.746559   .6413538     2.72   0.008      .467736    3.025382\n",
      "         mpg |  -49.51222   86.15604    -0.57   0.567    -221.3025     122.278\n",
      "       _cons |   1946.069    3597.05     0.54   0.590    -5226.245    9118.382\n"
     ]
    },
    {
     "name": "stdout",
     "output_type": "stream",
     "text": [
      "------------------------------------------------------------------------------\n"
     ]
    },
    {
     "name": "stdout",
     "output_type": "stream",
     "text": [
      "\n",
      "      Source |       SS           df       MS      Number of obs   =        74\n",
      "-------------+----------------------------------   F(3, 70)        =     23.29\n",
      "       Model |   317252881         3   105750960   Prob > F        =    0.0000\n",
      "    Residual |   317812515        70  4540178.78   R-squared       =    0.4996\n",
      "-------------+----------------------------------   Adj R-squared   =    0.4781\n",
      "       Total |   635065396        73  8699525.97   Root MSE        =    2130.8\n",
      "\n",
      "------------------------------------------------------------------------------\n",
      "       price | Coefficient  Std. err.      t    P>|t|     [95% conf. interval]\n",
      "-------------+----------------------------------------------------------------\n",
      "      weight |   3.464706    .630749     5.49   0.000     2.206717    4.722695\n",
      "         mpg |    21.8536   74.22114     0.29   0.769    -126.1758     169.883\n",
      "     foreign |    3673.06   683.9783     5.37   0.000     2308.909    5037.212\n",
      "       _cons |  -5853.696   3376.987    -1.73   0.087    -12588.88    881.4934\n",
      "------------------------------------------------------------------------------\n"
     ]
    },
    {
     "name": "stdout",
     "output_type": "stream",
     "text": [
      "(output written to regression_results.txt)\n"
     ]
    }
   ],
   "source": [
    "*| code-fold: false\n",
    "*| output: false\n",
    "// Load sample data\n",
    "sysuse auto, clear\n",
    "regress price weight mpg\n",
    "estimates store model1\n",
    "regress price weight mpg foreign\n",
    "estimates store model2\n",
    "\n",
    "// Create regression table\n",
    "esttab model1 model2 using regression_results.txt, ///\n",
    "    b(3) se(3) star(* 0.10 ** 0.05 *** 0.01) ///\n",
    "    r2 ar2 nonumber replace note(\"\") noline md ///\n",
    "    mtitle(\"Model 1\" \"Model 2\")"
   ]
  },
  {
   "cell_type": "code",
   "execution_count": 5,
   "id": "bbee2e27",
   "metadata": {},
   "outputs": [
    {
     "name": "stdout",
     "output_type": "stream",
     "text": [
      "\n",
      "             |      e(b)     e(rho)       e(p)   e(count) \n",
      "-------------+--------------------------------------------\n",
      "price        |                                            \n",
      "       price |         1          1                    74 \n",
      "         mpg | -.4685967  -.4685967   .0000255         74 \n",
      "      weight |  .5386115   .5386115   7.42e-07         74 \n",
      "      length |  .4318312   .4318312   .0001222         74 \n",
      "mpg          |                                            \n",
      "         mpg |         1          1                    74 \n",
      "      weight | -.8071749  -.8071749   3.80e-18         74 \n",
      "      length | -.7957794  -.7957794   2.42e-17         74 \n",
      "weight       |                                            \n",
      "      weight |         1          1                    74 \n",
      "      length |  .9460086   .9460086   5.86e-37         74 \n",
      "length       |                                            \n",
      "      length |         1          1                    74 \n"
     ]
    },
    {
     "name": "stdout",
     "output_type": "stream",
     "text": [
      "(output written to correlation_matrix.txt)\n"
     ]
    }
   ],
   "source": [
    "*| code-fold: false\n",
    "*| output: false\n",
    "// Generate correlation matrix\n",
    "estpost correlate price mpg weight length, matrix\n",
    "est sto corr_matrix\n",
    "// Create correlation table\n",
    "esttab corr_matrix using correlation_matrix.txt, ///\n",
    "    cell(\"rho(fmt(3))\") replace nonumber collabels(none) ///\n",
    "    nomtitle noline unstack label md"
   ]
  },
  {
   "cell_type": "code",
   "execution_count": 6,
   "id": "088d37d4",
   "metadata": {},
   "outputs": [
    {
     "name": "stdout",
     "output_type": "stream",
     "text": [
      "(National Longitudinal Survey of Young Women, 14-24 years old in 1968)\n",
      "\n"
     ]
    },
    {
     "name": "stdout",
     "output_type": "stream",
     "text": [
      "Panel variable: idcode (unbalanced)\n",
      " Time variable: year, 68 to 88, but with gaps\n",
      "         Delta: 1 unit\n"
     ]
    },
    {
     "name": "stdout",
     "output_type": "stream",
     "text": [
      "(MWFE estimator converged in 1 iterations)\n"
     ]
    },
    {
     "name": "stdout",
     "output_type": "stream",
     "text": [
      "\n",
      "HDFE Linear regression                            Number of obs   =     28,101\n",
      "Absorbing 1 HDFE group                            F(   3,  28097) =    1842.45\n",
      "                                                  Prob > F        =     0.0000\n",
      "                                                  R-squared       =     0.1644\n",
      "                                                  Adj R-squared   =     0.1643\n",
      "                                                  Within R-sq.    =     0.1644\n",
      "                                                  Root MSE        =     0.4368\n",
      "\n",
      "------------------------------------------------------------------------------\n",
      "     ln_wage | Coefficient  Std. err.      t    P>|t|     [95% conf. interval]\n",
      "-------------+----------------------------------------------------------------\n",
      "      tenure |   .0390877   .0007743    50.48   0.000     .0375699    .0406054\n",
      "         age |   .0752172   .0034736    21.65   0.000     .0684088    .0820257\n",
      "             |\n",
      " c.age#c.age |  -.0010851   .0000575   -18.86   0.000    -.0011979   -.0009724\n",
      "             |\n",
      "       _cons |   .3339821   .0504413     6.62   0.000     .2351148    .4328495\n",
      "------------------------------------------------------------------------------\n"
     ]
    },
    {
     "name": "stdout",
     "output_type": "stream",
     "text": [
      "(dropped 552 singleton observations)\n",
      "(MWFE estimator converged in 1 iterations)\n"
     ]
    },
    {
     "name": "stdout",
     "output_type": "stream",
     "text": [
      "\n",
      "HDFE Linear regression                            Number of obs   =     27,549\n",
      "Absorbing 1 HDFE group                            F(   3,  23399) =    1243.00\n",
      "                                                  Prob > F        =     0.0000\n",
      "                                                  R-squared       =     0.6696\n",
      "                                                  Adj R-squared   =     0.6110\n",
      "                                                  Within R-sq.    =     0.1375\n",
      "                                                  Root MSE        =     0.2967\n",
      "\n",
      "------------------------------------------------------------------------------\n",
      "     ln_wage | Coefficient  Std. err.      t    P>|t|     [95% conf. interval]\n",
      "-------------+----------------------------------------------------------------\n",
      "      tenure |    .021738    .000799    27.21   0.000      .020172     .023304\n",
      "         age |   .0522751    .002783    18.78   0.000     .0468202      .05773\n",
      "             |\n",
      " c.age#c.age |  -.0006717   .0000461   -14.56   0.000    -.0007621   -.0005813\n",
      "             |\n",
      "       _cons |   .6882768   .0406168    16.95   0.000     .6086652    .7678883\n",
      "------------------------------------------------------------------------------\n",
      "\n",
      "Absorbed degrees of freedom:\n"
     ]
    },
    {
     "name": "stdout",
     "output_type": "stream",
     "text": [
      "-----------------------------------------------------+\n",
      " Absorbed FE | Categories  - Redundant  = Num. Coefs |\n"
     ]
    },
    {
     "name": "stdout",
     "output_type": "stream",
     "text": [
      "-------------+---------------------------------------|\n",
      "      idcode |      4147           0        4147     |\n"
     ]
    },
    {
     "name": "stdout",
     "output_type": "stream",
     "text": [
      "-----------------------------------------------------+\n",
      "\n",
      "added macro:\n",
      "              e(id_fe) : \"X\"\n"
     ]
    },
    {
     "name": "stdout",
     "output_type": "stream",
     "text": [
      "(dropped 552 singleton observations)\n"
     ]
    },
    {
     "name": "stdout",
     "output_type": "stream",
     "text": [
      "(MWFE estimator converged in 8 iterations)\n"
     ]
    },
    {
     "name": "stdout",
     "output_type": "stream",
     "text": [
      "\n",
      "HDFE Linear regression                            Number of obs   =     27,549\n",
      "Absorbing 2 HDFE groups                           F(   3,  23385) =     337.94\n",
      "                                                  Prob > F        =     0.0000\n",
      "                                                  R-squared       =     0.6723\n",
      "                                                  Adj R-squared   =     0.6139\n",
      "                                                  Within R-sq.    =     0.0416\n",
      "                                                  Root MSE        =     0.2957\n",
      "\n",
      "------------------------------------------------------------------------------\n",
      "     ln_wage | Coefficient  Std. err.      t    P>|t|     [95% conf. interval]\n",
      "-------------+----------------------------------------------------------------\n",
      "      tenure |   .0214403   .0007978    26.88   0.000     .0198767     .023004\n",
      "         age |   .0750131   .0106652     7.03   0.000     .0541086    .0959176\n",
      "             |\n",
      " c.age#c.age |  -.0010713   .0000604   -17.74   0.000    -.0011897    -.000953\n",
      "             |\n",
      "       _cons |   .3837226   .2966742     1.29   0.196    -.1977782    .9652233\n",
      "------------------------------------------------------------------------------\n",
      "\n",
      "Absorbed degrees of freedom:\n",
      "-----------------------------------------------------+\n",
      " Absorbed FE | Categories  - Redundant  = Num. Coefs |\n",
      "-------------+---------------------------------------|\n",
      "      idcode |      4147           0        4147     |\n",
      "        year |        15           1          14     |\n",
      "-----------------------------------------------------+\n"
     ]
    },
    {
     "name": "stdout",
     "output_type": "stream",
     "text": [
      "\n",
      "added macro:\n",
      "              e(id_fe) : \"X\"\n",
      "\n",
      "added macro:\n",
      "              e(yr_fe) : \"X\"\n"
     ]
    },
    {
     "name": "stdout",
     "output_type": "stream",
     "text": [
      "(output written to mreg.txt)\n"
     ]
    }
   ],
   "source": [
    "*| code-fold: false\n",
    "*| output: false\n",
    "// Load panel data and set as panel\n",
    "webuse nlswork, clear\n",
    "xtset idcode year\n",
    "// ssc install reghdfe\n",
    "\n",
    "// Run regressions\n",
    "reghdfe ln_wage tenure c.age##c.age \n",
    "est sto no_fe\n",
    "\n",
    "reghdfe ln_wage tenure c.age##c.age , absorb(idcode)\n",
    "est sto id_fe\n",
    "estadd local id_fe \"X\"\n",
    "\n",
    "reghdfe ln_wage tenure c.age##c.age , absorb(idcode year)\n",
    "est sto idyr_fe\n",
    "estadd local id_fe \"X\"\n",
    "estadd local yr_fe \"X\"\n",
    "\n",
    "// Create table\n",
    " \n",
    "esttab no_fe  id_fe idyr_fe using mreg.txt, ///\n",
    "scalar(\"id_fe Individual FE\" \"yr_fe Yr FE\") ///\n",
    "noline  md  nonotes nomtitle  replace\n"
   ]
  }
 ],
 "metadata": {
  "kernelspec": {
   "display_name": "Stata (nbstata)",
   "language": "stata",
   "name": "nbstata"
  },
  "language_info": {
   "file_extension": ".do",
   "mimetype": "text/x-stata",
   "name": "stata",
   "version": "17"
  }
 },
 "nbformat": 4,
 "nbformat_minor": 5
}